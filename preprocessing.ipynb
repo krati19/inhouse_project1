{
 "cells": [
  {
   "cell_type": "code",
   "execution_count": 1,
   "id": "1a737858",
   "metadata": {},
   "outputs": [
    {
     "ename": "ModuleNotFoundError",
     "evalue": "No module named 'image_processing'",
     "output_type": "error",
     "traceback": [
      "\u001b[1;31m---------------------------------------------------------------------------\u001b[0m",
      "\u001b[1;31mModuleNotFoundError\u001b[0m                       Traceback (most recent call last)",
      "Cell \u001b[1;32mIn[1], line 5\u001b[0m\n\u001b[0;32m      3\u001b[0m \u001b[38;5;28;01mimport\u001b[39;00m \u001b[38;5;21;01mos\u001b[39;00m\n\u001b[0;32m      4\u001b[0m \u001b[38;5;28;01mimport\u001b[39;00m \u001b[38;5;21;01mcsv\u001b[39;00m\n\u001b[1;32m----> 5\u001b[0m \u001b[38;5;28;01mfrom\u001b[39;00m \u001b[38;5;21;01mimage_processing\u001b[39;00m \u001b[38;5;28;01mimport\u001b[39;00m func\n\u001b[0;32m      6\u001b[0m \u001b[38;5;28;01mif\u001b[39;00m \u001b[38;5;129;01mnot\u001b[39;00m os\u001b[38;5;241m.\u001b[39mpath\u001b[38;5;241m.\u001b[39mexists(\u001b[38;5;124m\"\u001b[39m\u001b[38;5;124mdata2\u001b[39m\u001b[38;5;124m\"\u001b[39m):\n\u001b[0;32m      7\u001b[0m     os\u001b[38;5;241m.\u001b[39mmakedirs(\u001b[38;5;124m\"\u001b[39m\u001b[38;5;124mdata2\u001b[39m\u001b[38;5;124m\"\u001b[39m)\n",
      "\u001b[1;31mModuleNotFoundError\u001b[0m: No module named 'image_processing'"
     ]
    }
   ],
   "source": [
    "import numpy as np\n",
    "import cv2\n",
    "import os\n",
    "import csv\n",
    "from image_processing import func\n",
    "if not os.path.exists(\"data2\"):\n",
    "    os.makedirs(\"data2\")\n",
    "if not os.path.exists(\"data2/train\"):\n",
    "    os.makedirs(\"dataluv/train\")\n",
    "if not os.path.exists(\"data2/test\"):\n",
    "    os.makedirs(\"data2/test\")\n",
    "path=\"train\"\n",
    "path1 = \"data2\"\n",
    "a=['label']\n",
    "\n",
    "for i in range(64*64):\n",
    "    a.append(\"pixel\"+str(i))\n",
    "    \n",
    "\n",
    "#outputLine = a.tolist()\n",
    "\n",
    "\n",
    "label=0\n",
    "var = 0\n",
    "c1 = 0\n",
    "c2 = 0\n",
    "\n",
    "for (dirpath,dirnames,filenames) in os.walk(path):\n",
    "    for dirname in dirnames:\n",
    "        print(dirname)\n",
    "        for(direcpath,direcnames,files) in os.walk(path+\"/\"+dirname):\n",
    "       \t    if not os.path.exists(path1+\"/train/\"+dirname):\n",
    "                os.makedirs(path1+\"/train/\"+dirname)\n",
    "            if not os.path.exists(path1+\"/test/\"+dirname):\n",
    "                os.makedirs(path1+\"/test/\"+dirname)\n",
    "            # num=0.75*len(files)\n",
    "            num = 100000000000000000\n",
    "            i=0\n",
    "            for file in files:\n",
    "                var+=1\n",
    "                actual_path=path+\"/\"+dirname+\"/\"+file\n",
    "                actual_path1=path1+\"/\"+\"train/\"+dirname+\"/\"+file\n",
    "                actual_path2=path1+\"/\"+\"test/\"+dirname+\"/\"+file\n",
    "                img = cv2.imread(actual_path, 0)\n",
    "                bw_image = func(actual_path)\n",
    "                if i<num:\n",
    "                    c1 += 1\n",
    "                    cv2.imwrite(actual_path1 , bw_image)\n",
    "                else:\n",
    "                    c2 += 1\n",
    "                    cv2.imwrite(actual_path2 , bw_image)\n",
    "                    \n",
    "                i=i+1\n",
    "                \n",
    "        label=label+1\n",
    "print(var)\n",
    "print(c1)\n",
    "print(c2)"
   ]
  },
  {
   "cell_type": "code",
   "execution_count": null,
   "id": "0363cf99",
   "metadata": {},
   "outputs": [],
   "source": []
  }
 ],
 "metadata": {
  "kernelspec": {
   "display_name": "Python 3 (ipykernel)",
   "language": "python",
   "name": "python3"
  },
  "language_info": {
   "codemirror_mode": {
    "name": "ipython",
    "version": 3
   },
   "file_extension": ".py",
   "mimetype": "text/x-python",
   "name": "python",
   "nbconvert_exporter": "python",
   "pygments_lexer": "ipython3",
   "version": "3.9.16"
  }
 },
 "nbformat": 4,
 "nbformat_minor": 5
}
